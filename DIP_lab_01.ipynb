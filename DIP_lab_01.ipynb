{
 "cells": [
  {
   "cell_type": "code",
   "execution_count": 1,
   "metadata": {},
   "outputs": [
    {
     "name": "stdout",
     "output_type": "stream",
     "text": [
      "Red:  ['R', 'R', 'R', 'R', 'R', 'R', 'R', 'R', 'R', 'R', 'R', 'R'] \n",
      "Green:  ['G', 'G', 'G', 'G', 'G', 'G', 'G', 'G', 'G', 'G'] \n",
      "Blue:  ['B', 'B', 'B', 'B', 'B', 'B', 'B', 'B', 'B']\n"
     ]
    }
   ],
   "source": [
    "R=[]\n",
    "G=[]\n",
    "B=[]\n",
    "colors = [\n",
    "    \"R\",\"G\",\"B\",\"G\",\n",
    "    \"R\",\"B\", \"B\",\"G\",\n",
    "    \"R\",\"R\",\"G\",\"B\",\n",
    "    \"G\",\"R\",\"B\", \"B\",\n",
    "    \"G\",\"R\",\"B\",\"G\",\n",
    "    \"R\",\"R\",\"G\",\"B\",\n",
    "    \"G\",\"R\",\"B\",\"R\",\n",
    "    \"R\",\"R\",\"G\"\n",
    "]\n",
    "for i in colors:\n",
    "    if i=='R':\n",
    "        R.append(i)\n",
    "    if i=='G':\n",
    "        G.append(i)\n",
    "    if i=='B':\n",
    "        B.append(i)\n",
    "        \n",
    "print(\"Red: \",R,\"\\nGreen: \",G,\"\\nBlue: \",B)\n"
   ]
  },
  {
   "cell_type": "code",
   "execution_count": 2,
   "metadata": {},
   "outputs": [
    {
     "name": "stdout",
     "output_type": "stream",
     "text": [
      "[['G', 'G', 'G', 'G', 'G', 'G', 'G', 'G', 'G', 'G'], ['G', 'G', 'G', 'G', 'G', 'G', 'G', 'G', 'G', 'G'], ['G', 'G', 'G', 'G', 'G', 'G', 'G', 'G', 'G', 'G'], ['G', 'G', 'G', 'G', 'G', 'G', 'G', 'G', 'G', 'G'], ['G', 'G', 'G', 'G', 'G', 'G', 'G', 'G', 'G', 'G'], ['G', 'G', 'G', 'G', 'G', 'G', 'G', 'G', 'G', 'G']]\n"
     ]
    }
   ],
   "source": [
    "image = [\n",
    "    [\"R\",\"G\",\"B\",\"G\",\"R\",\"B\",\"B\",\"G\",\"R\",\"R\"],\n",
    "    [\"G\",\"B\",\"G\",\"R\",\"B\",\"B\",\"G\",\"R\",\"B\",\"G\"],\n",
    "    [\"R\",\"R\",\"G\",\"B\",\"G\",\"R\",\"B\",\"R\",\"R\",\"R\"],\n",
    "    [\"R\",\"G\",\"B\",\"G\",\"R\",\"B\",\"B\",\"G\",\"R\",\"R\"],\n",
    "    [\"G\",\"B\",\"G\",\"R\",\"B\",\"B\",\"G\",\"R\",\"B\",\"G\"],\n",
    "    [\"R\",\"R\",\"G\",\"B\",\"G\",\"R\",\"B\",\"R\",\"R\",\"R\"]\n",
    "]\n",
    "\n",
    "for i in range(len(image)):\n",
    "    for j in range(len(image[i])):\n",
    "        if image[i][j] != \"G\":\n",
    "            image[i][j]=\"G\"\n",
    "print(image)\n",
    "\n"
   ]
  },
  {
   "cell_type": "code",
   "execution_count": 5,
   "metadata": {},
   "outputs": [
    {
     "name": "stdout",
     "output_type": "stream",
     "text": [
      "[[1, 0, 0, 0, 0, 0, 0, 0, 0, 1], [1, 0, 0, 0, 0, 0, 0, 0, 0, 1], [1, 1, 1, 0, 0, 0, 0, 1, 1, 1], [1, 1, 1, 0, 0, 0, 0, 1, 1, 1], [1, 1, 1, 0, 0, 0, 0, 1, 1, 1], [1, 0, 0, 0, 0, 0, 0, 0, 0, 1], [1, 0, 0, 0, 0, 0, 0, 0, 0, 1]]\n"
     ]
    }
   ],
   "source": [
    "img = [\n",
    "    [0,1,1,1,1,1,1,1,1,0],\n",
    "    [0,1,1,1,1,1,1,1,1,0],\n",
    "    [0,0,0,1,1,1,1,0,0,0],\n",
    "    [0,0,0,1,1,1,1,0,0,0],\n",
    "    [0,0,0,1,1,1,1,0,0,0],\n",
    "    [0,1,1,1,1,1,1,1,1,0],\n",
    "    [0,1,1,1,1,1,1,1,1,0]\n",
    "]\n",
    "\n",
    "def inv(img,level):\n",
    "    for row in img:\n",
    "        for i in range(len(row)):\n",
    "            row[i] = level-1-row[i]\n",
    "    return img\n",
    "\n",
    "inv(img,2)\n",
    "print(img)\n"
   ]
  }
 ],
 "metadata": {
  "kernelspec": {
   "display_name": "Python 3",
   "language": "python",
   "name": "python3"
  },
  "language_info": {
   "codemirror_mode": {
    "name": "ipython",
    "version": 3
   },
   "file_extension": ".py",
   "mimetype": "text/x-python",
   "name": "python",
   "nbconvert_exporter": "python",
   "pygments_lexer": "ipython3",
   "version": "3.9.13"
  },
  "orig_nbformat": 4
 },
 "nbformat": 4,
 "nbformat_minor": 2
}
